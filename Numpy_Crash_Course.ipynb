{
 "cells": [
  {
   "cell_type": "markdown",
   "id": "99e1c439",
   "metadata": {},
   "source": [
    "Lecture 1 Start"
   ]
  },
  {
   "cell_type": "code",
   "execution_count": null,
   "id": "fdc56c74",
   "metadata": {},
   "outputs": [
    {
     "name": "stdout",
     "output_type": "stream",
     "text": [
      "Defaulting to user installation because normal site-packages is not writeable\n",
      "Requirement already satisfied: numpy in c:\\users\\dell\\appdata\\local\\packages\\pythonsoftwarefoundation.python.3.12_qbz5n2kfra8p0\\localcache\\local-packages\\python312\\site-packages (2.2.5)\n",
      "Note: you may need to restart the kernel to use updated packages.\n"
     ]
    },
    {
     "name": "stderr",
     "output_type": "stream",
     "text": [
      "\n",
      "[notice] A new release of pip is available: 25.0.1 -> 25.2\n",
      "[notice] To update, run: C:\\Users\\DELL\\AppData\\Local\\Microsoft\\WindowsApps\\PythonSoftwareFoundation.Python.3.12_qbz5n2kfra8p0\\python.exe -m pip install --upgrade pip\n"
     ]
    }
   ],
   "source": [
    "%pip install numpy"
   ]
  },
  {
   "cell_type": "code",
   "execution_count": 3,
   "id": "e9ec73f6",
   "metadata": {},
   "outputs": [
    {
     "data": {
      "text/plain": [
       "'2.2.5'"
      ]
     },
     "execution_count": 3,
     "metadata": {},
     "output_type": "execute_result"
    }
   ],
   "source": [
    "import numpy as np\n",
    "\n",
    "np.__version__"
   ]
  },
  {
   "cell_type": "code",
   "execution_count": 7,
   "id": "349ca3ca",
   "metadata": {},
   "outputs": [
    {
     "data": {
      "text/plain": [
       "(array([1, 2, 3, 4]), numpy.ndarray, (4,), 1)"
      ]
     },
     "execution_count": 7,
     "metadata": {},
     "output_type": "execute_result"
    }
   ],
   "source": [
    "a = np.array([1, 2, 3, 4])\n",
    "a, type(a), a.shape, a.ndim"
   ]
  },
  {
   "cell_type": "code",
   "execution_count": null,
   "id": "3a9b2b3b",
   "metadata": {},
   "outputs": [],
   "source": [
    "a = np.array((1, 2, 3, 4))\n",
    "a, type(a), a.shape, a.ndim #using tuples result is same"
   ]
  },
  {
   "cell_type": "code",
   "execution_count": null,
   "id": "72b40634",
   "metadata": {},
   "outputs": [
    {
     "data": {
      "text/plain": [
       "(array(2), numpy.ndarray, (), 0)"
      ]
     },
     "execution_count": 8,
     "metadata": {},
     "output_type": "execute_result"
    }
   ],
   "source": [
    "#0-dimension\n",
    "a = np.array(2)\n",
    "\n",
    "a, type(a), a.shape, a.ndim #scalar value does not have shape or dimension"
   ]
  },
  {
   "cell_type": "code",
   "execution_count": 12,
   "id": "a65626fc",
   "metadata": {},
   "outputs": [
    {
     "data": {
      "text/plain": [
       "(array([[1, 2, 3, 4],\n",
       "        [5, 6, 7, 8]]),\n",
       " numpy.ndarray,\n",
       " (2, 4),\n",
       " 2)"
      ]
     },
     "execution_count": 12,
     "metadata": {},
     "output_type": "execute_result"
    }
   ],
   "source": [
    "#2-dimension\n",
    "\n",
    "a = np.array([[1, 2, 3, 4],[5, 6, 7, 8]])\n",
    "a, type(a), a.shape, a.ndim"
   ]
  },
  {
   "cell_type": "code",
   "execution_count": 14,
   "id": "7f25e66a",
   "metadata": {},
   "outputs": [
    {
     "data": {
      "text/plain": [
       "(array([[[1, 2, 3, 4],\n",
       "         [5, 6, 7, 8]],\n",
       " \n",
       "        [[1, 2, 3, 4],\n",
       "         [5, 6, 7, 8]]]),\n",
       " numpy.ndarray,\n",
       " (2, 2, 4),\n",
       " 3)"
      ]
     },
     "execution_count": 14,
     "metadata": {},
     "output_type": "execute_result"
    }
   ],
   "source": [
    "#3-dimension --> List/vector of 2d list/vector\n",
    "a = np.array([[[1, 2, 3, 4],[5, 6, 7, 8]],[[1, 2, 3, 4],[5, 6, 7, 8]]])\n",
    "\n",
    "a, type(a), a.shape, a.ndim\n"
   ]
  },
  {
   "cell_type": "markdown",
   "id": "7ca389ee",
   "metadata": {},
   "source": [
    "Lecture 1 End"
   ]
  },
  {
   "cell_type": "markdown",
   "id": "8ea2f3b8",
   "metadata": {},
   "source": [
    "Lecture 2 Start"
   ]
  },
  {
   "cell_type": "code",
   "execution_count": null,
   "id": "8a0252dc",
   "metadata": {},
   "outputs": [
    {
     "name": "stdout",
     "output_type": "stream",
     "text": [
      "4\n",
      "4\n",
      "3\n"
     ]
    }
   ],
   "source": [
    "# 1d array\n",
    "a = np.array([1, 2, 3, 4])\n",
    "\n",
    "print(a[3])\n",
    "print(a[-1]) #get last value\n",
    "print(a[-2]) #get second last value"
   ]
  },
  {
   "cell_type": "code",
   "execution_count": 29,
   "id": "875fa197",
   "metadata": {},
   "outputs": [
    {
     "name": "stdout",
     "output_type": "stream",
     "text": [
      "2\n",
      "2\n",
      "4 8\n"
     ]
    }
   ],
   "source": [
    "#2d array\n",
    "a = np.array([[1, 2, 3, 4],[5, 6, 7, 8]])\n",
    "\n",
    "print(a[0][1])\n",
    "print(a[0,1]) #print 2d vector/array\n",
    "print(a[0,-1], a[1, -1])"
   ]
  },
  {
   "cell_type": "code",
   "execution_count": 38,
   "id": "fdb4bb8f",
   "metadata": {},
   "outputs": [
    {
     "name": "stdout",
     "output_type": "stream",
     "text": [
      "[1 2 3 4]\n",
      "4\n",
      "[4 8]\n",
      "[[2 3]\n",
      " [6 7]]\n"
     ]
    }
   ],
   "source": [
    "a = np.array([[[1, 2, 3, 4],[5, 6, 7, 8]],\n",
    "              [[1, 2, 3, 4],[5, 6, 7, 8]]])\n",
    "\n",
    "print(a[1][0])\n",
    "print(a[1][0][3])\n",
    "print(a[1,:,3])\n",
    "print(a[1,:,1:3])\n"
   ]
  },
  {
   "cell_type": "markdown",
   "id": "c37c95f9",
   "metadata": {},
   "source": [
    "Lecture 2 End"
   ]
  },
  {
   "cell_type": "markdown",
   "id": "b275bcea",
   "metadata": {},
   "source": [
    "Lecture 3 Start"
   ]
  },
  {
   "cell_type": "code",
   "execution_count": 43,
   "id": "5fe481f3",
   "metadata": {},
   "outputs": [
    {
     "data": {
      "text/plain": [
       "(array([1., 2., 3., 4.]), dtype('float64'), (4,))"
      ]
     },
     "execution_count": 43,
     "metadata": {},
     "output_type": "execute_result"
    }
   ],
   "source": [
    "a = np.array([1, 2, 3, 4.0])\n",
    "a, a.dtype, a.shape"
   ]
  },
  {
   "cell_type": "code",
   "execution_count": null,
   "id": "e5e4bbcd",
   "metadata": {},
   "outputs": [
    {
     "data": {
      "text/plain": [
       "array(['apple', 'banana', 'pineapple'], dtype='<U9')"
      ]
     },
     "execution_count": 46,
     "metadata": {},
     "output_type": "execute_result"
    }
   ],
   "source": [
    "a = np.array(['apple', 'banana', 'pineapple']) #here u9 or u6 means max chars in any item in the list\n",
    "a"
   ]
  },
  {
   "cell_type": "code",
   "execution_count": 47,
   "id": "85a443ce",
   "metadata": {},
   "outputs": [
    {
     "data": {
      "text/plain": [
       "array([b'apple', b'banana', b'pineapple'], dtype='|S9')"
      ]
     },
     "execution_count": 47,
     "metadata": {},
     "output_type": "execute_result"
    }
   ],
   "source": [
    "a = np.array(['apple', 'banana', 'pineapple'], dtype='S')\n",
    "a"
   ]
  },
  {
   "cell_type": "code",
   "execution_count": 55,
   "id": "b3a706f3",
   "metadata": {},
   "outputs": [
    {
     "data": {
      "text/plain": [
       "array([0, 1, 2], dtype=int32)"
      ]
     },
     "execution_count": 55,
     "metadata": {},
     "output_type": "execute_result"
    }
   ],
   "source": [
    "a = np.array(['0', '1', '2'], dtype='i4')\n",
    "a"
   ]
  },
  {
   "cell_type": "code",
   "execution_count": 70,
   "id": "6ab88490",
   "metadata": {},
   "outputs": [
    {
     "data": {
      "text/plain": [
       "array([0, 1, 2], dtype=int32)"
      ]
     },
     "execution_count": 70,
     "metadata": {},
     "output_type": "execute_result"
    }
   ],
   "source": [
    "#a = np.array(['0.0', '1.0', '2.0'], dtype='i4')\n",
    "a = np.array(['0.0', '1.0', '2.0'], dtype='f')\n",
    "b = a.astype('i')\n",
    "b.astype('bool')\n",
    "b\n",
    "\n",
    "#float string will not convert into integer directly but we need to convert into integer"
   ]
  },
  {
   "cell_type": "code",
   "execution_count": null,
   "id": "c54e31b7",
   "metadata": {},
   "outputs": [
    {
     "data": {
      "text/plain": [
       "array(['1', '12', '24', '3'], dtype='<U2')"
      ]
     },
     "execution_count": 71,
     "metadata": {},
     "output_type": "execute_result"
    }
   ],
   "source": [
    "a = np.array(['12', '3', '24', '1'])\n",
    "a.sort()\n",
    "a #sort in asc order"
   ]
  },
  {
   "cell_type": "code",
   "execution_count": 93,
   "id": "9a76583e",
   "metadata": {},
   "outputs": [
    {
     "data": {
      "text/plain": [
       "array([ 1,  3, 12, 24])"
      ]
     },
     "execution_count": 93,
     "metadata": {},
     "output_type": "execute_result"
    }
   ],
   "source": [
    "a = np.array([12,3,24,1])\n",
    "a = np.sort(a)[::-1] #sort in desc order by slicing\n",
    "a\n",
    "b = a[::-1]\n",
    "b"
   ]
  },
  {
   "cell_type": "code",
   "execution_count": 97,
   "id": "efbcc04a",
   "metadata": {},
   "outputs": [
    {
     "name": "stdout",
     "output_type": "stream",
     "text": [
      "[10, 40, 70]\n"
     ]
    }
   ],
   "source": [
    "# slicing practice\n",
    "lst = [10, 20, 30, 40, 50, 60, 70]\n",
    "print(lst[::3])"
   ]
  },
  {
   "cell_type": "markdown",
   "id": "beabb4c6",
   "metadata": {},
   "source": [
    "Lecture 3 End"
   ]
  },
  {
   "cell_type": "markdown",
   "id": "16f299dc",
   "metadata": {},
   "source": [
    "Lecture 4 Start - npnan & npinf"
   ]
  },
  {
   "cell_type": "code",
   "execution_count": 7,
   "id": "9cf13897",
   "metadata": {},
   "outputs": [
    {
     "name": "stdout",
     "output_type": "stream",
     "text": [
      "False\n"
     ]
    }
   ],
   "source": [
    "print(np.nan == np.nan)"
   ]
  },
  {
   "cell_type": "code",
   "execution_count": 10,
   "id": "c8ba8fc1",
   "metadata": {},
   "outputs": [
    {
     "data": {
      "text/plain": [
       "(False, False, False)"
      ]
     },
     "execution_count": 10,
     "metadata": {},
     "output_type": "execute_result"
    }
   ],
   "source": [
    "a = np.nan\n",
    "b = np.nan\n",
    "\n",
    "a,b\n",
    "\n",
    "a==b, a>b, a<b #cannot compare nan"
   ]
  },
  {
   "cell_type": "code",
   "execution_count": 13,
   "id": "63d6e755",
   "metadata": {},
   "outputs": [
    {
     "data": {
      "text/plain": [
       "(inf, inf)"
      ]
     },
     "execution_count": 13,
     "metadata": {},
     "output_type": "execute_result"
    }
   ],
   "source": [
    "a = np.inf\n",
    "b = np.inf\n",
    "\n",
    "a, b"
   ]
  },
  {
   "cell_type": "code",
   "execution_count": 14,
   "id": "210062cf",
   "metadata": {},
   "outputs": [
    {
     "data": {
      "text/plain": [
       "(True, False, False)"
      ]
     },
     "execution_count": 14,
     "metadata": {},
     "output_type": "execute_result"
    }
   ],
   "source": [
    "a==b, a<b, a>b #can compare inf"
   ]
  },
  {
   "cell_type": "code",
   "execution_count": 21,
   "id": "1a79cbb9",
   "metadata": {},
   "outputs": [
    {
     "data": {
      "text/plain": [
       "((2, 3), dtype('float64'))"
      ]
     },
     "execution_count": 21,
     "metadata": {},
     "output_type": "execute_result"
    }
   ],
   "source": [
    "a = np.array([[1,2,3],[4,5,6]], dtype='float')\n",
    "a.shape, a.dtype"
   ]
  },
  {
   "cell_type": "code",
   "execution_count": 23,
   "id": "2959f696",
   "metadata": {},
   "outputs": [
    {
     "data": {
      "text/plain": [
       "array([[ 1., nan, inf],\n",
       "       [ 4.,  5.,  6.]])"
      ]
     },
     "execution_count": 23,
     "metadata": {},
     "output_type": "execute_result"
    }
   ],
   "source": [
    "a[0][1] = np.nan\n",
    "a[0][2] = np.inf\n",
    "a\n",
    "#we can assign nan only when dtype is float, not int"
   ]
  },
  {
   "cell_type": "code",
   "execution_count": 25,
   "id": "84c919e0",
   "metadata": {},
   "outputs": [
    {
     "data": {
      "text/plain": [
       "array([[False,  True, False],\n",
       "       [False, False, False]])"
      ]
     },
     "execution_count": 25,
     "metadata": {},
     "output_type": "execute_result"
    }
   ],
   "source": [
    "np.isnan(a)"
   ]
  },
  {
   "cell_type": "code",
   "execution_count": 26,
   "id": "fbeefb4f",
   "metadata": {},
   "outputs": [
    {
     "data": {
      "text/plain": [
       "array([[False, False,  True],\n",
       "       [False, False, False]])"
      ]
     },
     "execution_count": 26,
     "metadata": {},
     "output_type": "execute_result"
    }
   ],
   "source": [
    "np.isinf(a)"
   ]
  },
  {
   "cell_type": "markdown",
   "id": "51178669",
   "metadata": {},
   "source": [
    "Lecture 4 Ends\n"
   ]
  },
  {
   "cell_type": "markdown",
   "id": "67b7e731",
   "metadata": {},
   "source": [
    "Lecture 5 start - statistical operation"
   ]
  },
  {
   "cell_type": "code",
   "execution_count": 28,
   "id": "061d3a53",
   "metadata": {},
   "outputs": [
    {
     "data": {
      "text/plain": [
       "(np.float64(4.0), np.float64(4.0), np.float64(4.0))"
      ]
     },
     "execution_count": 28,
     "metadata": {},
     "output_type": "execute_result"
    }
   ],
   "source": [
    "a = np.array([1, 2, 3, 4, 5, 6, 7])\n",
    "\n",
    "a.mean(), np.mean(a), np.mean([1, 2, 3, 4, 5, 6, 7])"
   ]
  },
  {
   "cell_type": "code",
   "execution_count": 33,
   "id": "aa7d8300",
   "metadata": {},
   "outputs": [
    {
     "data": {
      "text/plain": [
       "(np.float64(4.0), np.float64(2.0), np.float64(4.0))"
      ]
     },
     "execution_count": 33,
     "metadata": {},
     "output_type": "execute_result"
    }
   ],
   "source": [
    "b = a.var() #variance\n",
    "c = a.std() #standard deviation\n",
    "d = np.median(a) #median\n",
    "b,c, d"
   ]
  },
  {
   "cell_type": "code",
   "execution_count": 34,
   "id": "5378f261",
   "metadata": {},
   "outputs": [
    {
     "data": {
      "text/plain": [
       "array([[ 1,  2,  3,  4,  5,  6,  7],\n",
       "       [11, 22, 33, 44, 55, 66, 77]])"
      ]
     },
     "execution_count": 34,
     "metadata": {},
     "output_type": "execute_result"
    }
   ],
   "source": [
    "a = np.array([[1, 2, 3, 4, 5, 6, 7],[11, 22, 33, 44, 55, 66, 77]])\n",
    "a"
   ]
  },
  {
   "cell_type": "code",
   "execution_count": 35,
   "id": "2dd0bf71",
   "metadata": {},
   "outputs": [
    {
     "data": {
      "text/plain": [
       "(np.float64(24.0),\n",
       " np.float64(24.0),\n",
       " np.float64(25.37715508089904),\n",
       " np.float64(25.37715508089904),\n",
       " np.float64(644.0),\n",
       " np.float64(9.0))"
      ]
     },
     "execution_count": 35,
     "metadata": {},
     "output_type": "execute_result"
    }
   ],
   "source": [
    "a.mean(), np.mean(a), np.std(a), a.std(), a.var(), np.median(a)"
   ]
  },
  {
   "cell_type": "markdown",
   "id": "67f67219",
   "metadata": {},
   "source": [
    "Lecture 5 ends"
   ]
  },
  {
   "cell_type": "markdown",
   "id": "ed8c46ac",
   "metadata": {},
   "source": [
    "Lecture 6 start - Shape, Reshape, Ravel, Flatten"
   ]
  },
  {
   "cell_type": "code",
   "execution_count": 36,
   "id": "3da2c835",
   "metadata": {},
   "outputs": [
    {
     "data": {
      "text/plain": [
       "(2, (2, 7))"
      ]
     },
     "execution_count": 36,
     "metadata": {},
     "output_type": "execute_result"
    }
   ],
   "source": [
    "a = np.array([[1, 2, 3, 4, 5, 6, 7],[11, 22, 33, 44, 55, 66, 77]])\n",
    "a.ndim, a.shape"
   ]
  },
  {
   "cell_type": "code",
   "execution_count": 41,
   "id": "51e26918",
   "metadata": {},
   "outputs": [
    {
     "data": {
      "text/plain": [
       "array([[ 1,  2,  3,  4,  5,  6,  7, 11, 22, 33, 44, 55, 66, 77]])"
      ]
     },
     "execution_count": 41,
     "metadata": {},
     "output_type": "execute_result"
    }
   ],
   "source": [
    "a.reshape(1, 14) #while reshaping multiplication of both should be equal, 1*14, 2*7\n",
    "a.reshape(1,-1) #take 1 rows and as many cols you want"
   ]
  },
  {
   "cell_type": "code",
   "execution_count": 42,
   "id": "5c85c9fc",
   "metadata": {},
   "outputs": [
    {
     "data": {
      "text/plain": [
       "array([ 1,  2,  3,  4,  5,  6,  7, 11, 22, 33, 44, 55, 66, 77])"
      ]
     },
     "execution_count": 42,
     "metadata": {},
     "output_type": "execute_result"
    }
   ],
   "source": [
    "a.ravel() #automatically converts into 1d array"
   ]
  },
  {
   "cell_type": "code",
   "execution_count": 43,
   "id": "9dfc9b9c",
   "metadata": {},
   "outputs": [
    {
     "data": {
      "text/plain": [
       "array([ 1,  2,  3,  4,  5,  6,  7, 11, 22, 33, 44, 55, 66, 77])"
      ]
     },
     "execution_count": 43,
     "metadata": {},
     "output_type": "execute_result"
    }
   ],
   "source": [
    "a.flatten() #diff between flatten and ravel, flatten returns only a view but ravel returns orignal\n",
    "# flatten returns a copy, ravel returns orignal"
   ]
  },
  {
   "cell_type": "markdown",
   "id": "19c1da1e",
   "metadata": {},
   "source": [
    "Lecture 6 ends"
   ]
  },
  {
   "cell_type": "markdown",
   "id": "4d891453",
   "metadata": {},
   "source": [
    "Lecture 7 start - Random, linspace, range, random, zeros, ones, tile, repeat"
   ]
  },
  {
   "cell_type": "code",
   "execution_count": 47,
   "id": "53ede9d0",
   "metadata": {},
   "outputs": [
    {
     "data": {
      "text/plain": [
       "array([1., 2., 3., 4.])"
      ]
     },
     "execution_count": 47,
     "metadata": {},
     "output_type": "execute_result"
    }
   ],
   "source": [
    "np.arange(1, 5, dtype='float')"
   ]
  },
  {
   "cell_type": "code",
   "execution_count": 64,
   "id": "0f8d957b",
   "metadata": {},
   "outputs": [
    {
     "data": {
      "text/plain": [
       "array([1., 3., 5., 7., 9.])"
      ]
     },
     "execution_count": 64,
     "metadata": {},
     "output_type": "execute_result"
    }
   ],
   "source": [
    "np.arange(1, 11, 2, dtype='float') #you can control the difference but cannot controls values you get"
   ]
  },
  {
   "cell_type": "code",
   "execution_count": 63,
   "id": "f8b2ab93",
   "metadata": {},
   "outputs": [
    {
     "data": {
      "text/plain": [
       "array([ 1.,  2.,  3.,  4.,  5.,  6.,  7.,  8.,  9., 10., 11.])"
      ]
     },
     "execution_count": 63,
     "metadata": {},
     "output_type": "execute_result"
    }
   ],
   "source": [
    "np.linspace(1, 11, 11) #you can control how many numbers you want but cannot control difference between values"
   ]
  },
  {
   "cell_type": "code",
   "execution_count": 65,
   "id": "fa7b6832",
   "metadata": {},
   "outputs": [],
   "source": [
    "from numpy import random"
   ]
  },
  {
   "cell_type": "code",
   "execution_count": 73,
   "id": "a111a6a9",
   "metadata": {},
   "outputs": [
    {
     "data": {
      "text/plain": [
       "(array([[0.24227717, 0.46676493, 0.56050444, 0.76848068, 0.23358849,\n",
       "         0.65521804, 0.88652139, 0.65596689, 0.92009561, 0.85189454]]),\n",
       " 3)"
      ]
     },
     "execution_count": 73,
     "metadata": {},
     "output_type": "execute_result"
    }
   ],
   "source": [
    "random.rand(1,10), random.randint(1,10)"
   ]
  },
  {
   "cell_type": "code",
   "execution_count": 78,
   "id": "3bd02e2b",
   "metadata": {},
   "outputs": [
    {
     "data": {
      "text/plain": [
       "array([1, 2, 3, 4, 5, 6, 7, 8, 9])"
      ]
     },
     "execution_count": 78,
     "metadata": {},
     "output_type": "execute_result"
    }
   ],
   "source": [
    "np.array(range(1, 10)) # ref from for i in range(1, 10)"
   ]
  },
  {
   "cell_type": "code",
   "execution_count": 81,
   "id": "321fba37",
   "metadata": {},
   "outputs": [
    {
     "data": {
      "text/plain": [
       "array([[0., 0., 0., 0., 0.],\n",
       "       [0., 0., 0., 0., 0.]])"
      ]
     },
     "execution_count": 81,
     "metadata": {},
     "output_type": "execute_result"
    }
   ],
   "source": [
    "np.zeros([2, 5])"
   ]
  },
  {
   "cell_type": "code",
   "execution_count": 86,
   "id": "8f2c035f",
   "metadata": {},
   "outputs": [
    {
     "data": {
      "text/plain": [
       "array([[[1., 1., 1., 1.],\n",
       "        [1., 1., 1., 1.],\n",
       "        [1., 1., 1., 1.],\n",
       "        [1., 1., 1., 1.],\n",
       "        [1., 1., 1., 1.]],\n",
       "\n",
       "       [[1., 1., 1., 1.],\n",
       "        [1., 1., 1., 1.],\n",
       "        [1., 1., 1., 1.],\n",
       "        [1., 1., 1., 1.],\n",
       "        [1., 1., 1., 1.]],\n",
       "\n",
       "       [[1., 1., 1., 1.],\n",
       "        [1., 1., 1., 1.],\n",
       "        [1., 1., 1., 1.],\n",
       "        [1., 1., 1., 1.],\n",
       "        [1., 1., 1., 1.]],\n",
       "\n",
       "       [[1., 1., 1., 1.],\n",
       "        [1., 1., 1., 1.],\n",
       "        [1., 1., 1., 1.],\n",
       "        [1., 1., 1., 1.],\n",
       "        [1., 1., 1., 1.]],\n",
       "\n",
       "       [[1., 1., 1., 1.],\n",
       "        [1., 1., 1., 1.],\n",
       "        [1., 1., 1., 1.],\n",
       "        [1., 1., 1., 1.],\n",
       "        [1., 1., 1., 1.]]])"
      ]
     },
     "execution_count": 86,
     "metadata": {},
     "output_type": "execute_result"
    }
   ],
   "source": [
    "np.ones([5, 5, 4])"
   ]
  },
  {
   "cell_type": "code",
   "execution_count": 87,
   "id": "4fc8afd6",
   "metadata": {},
   "outputs": [
    {
     "data": {
      "text/plain": [
       "array([1, 2, 3, 1, 2, 3, 1, 2, 3, 1, 2, 3, 1, 2, 3, 1, 2, 3, 1, 2, 3, 1,\n",
       "       2, 3, 1, 2, 3, 1, 2, 3, 1, 2, 3, 1, 2, 3, 1, 2, 3, 1, 2, 3, 1, 2,\n",
       "       3, 1, 2, 3, 1, 2, 3, 1, 2, 3, 1, 2, 3, 1, 2, 3])"
      ]
     },
     "execution_count": 87,
     "metadata": {},
     "output_type": "execute_result"
    }
   ],
   "source": [
    "np.tile([1,2,3],20)"
   ]
  },
  {
   "cell_type": "code",
   "execution_count": 88,
   "id": "bf06963c",
   "metadata": {},
   "outputs": [
    {
     "data": {
      "text/plain": [
       "array([1, 1, 1, 1, 1, 1, 1, 1, 1, 1, 1, 1, 1, 1, 1, 1, 1, 1, 1, 1, 2, 2,\n",
       "       2, 2, 2, 2, 2, 2, 2, 2, 2, 2, 2, 2, 2, 2, 2, 2, 2, 2, 3, 3, 3, 3,\n",
       "       3, 3, 3, 3, 3, 3, 3, 3, 3, 3, 3, 3, 3, 3, 3, 3])"
      ]
     },
     "execution_count": 88,
     "metadata": {},
     "output_type": "execute_result"
    }
   ],
   "source": [
    "np.repeat([1,2,3],20)"
   ]
  },
  {
   "cell_type": "markdown",
   "id": "41ed67e5",
   "metadata": {},
   "source": [
    "Lecture 7 ends"
   ]
  },
  {
   "cell_type": "markdown",
   "id": "5a1760e1",
   "metadata": {},
   "source": [
    "Lecture 8 start - Where"
   ]
  },
  {
   "cell_type": "code",
   "execution_count": 92,
   "id": "8f8e74a3",
   "metadata": {},
   "outputs": [
    {
     "data": {
      "text/plain": [
       "array([11, 22, 33, 44, 55, 66, 77])"
      ]
     },
     "execution_count": 92,
     "metadata": {},
     "output_type": "execute_result"
    }
   ],
   "source": [
    "index = np.where(a>10)\n",
    "a[index]"
   ]
  },
  {
   "cell_type": "code",
   "execution_count": 94,
   "id": "2a110021",
   "metadata": {},
   "outputs": [
    {
     "data": {
      "text/plain": [
       "array([[ 1,  2,  3,  4,  5,  6,  7],\n",
       "       [11, 22, 33, 44,  0,  0,  0]])"
      ]
     },
     "execution_count": 94,
     "metadata": {},
     "output_type": "execute_result"
    }
   ],
   "source": [
    "np.where(a>50, 0, a) # if true, replace with 0 else with a"
   ]
  },
  {
   "cell_type": "code",
   "execution_count": 97,
   "id": "5ad4a35b",
   "metadata": {},
   "outputs": [
    {
     "data": {
      "text/plain": [
       "(np.int64(77), np.int64(13))"
      ]
     },
     "execution_count": 97,
     "metadata": {},
     "output_type": "execute_result"
    }
   ],
   "source": [
    "a.max()"
   ]
  },
  {
   "cell_type": "code",
   "execution_count": 99,
   "id": "c7f39151",
   "metadata": {},
   "outputs": [
    {
     "data": {
      "text/plain": [
       "np.int64(13)"
      ]
     },
     "execution_count": 99,
     "metadata": {},
     "output_type": "execute_result"
    }
   ],
   "source": [
    "a.argmax() #this produces stacked version of array hence we cannot do a[13]\n",
    "# so we flatten it"
   ]
  },
  {
   "cell_type": "code",
   "execution_count": 103,
   "id": "8c1423bb",
   "metadata": {},
   "outputs": [
    {
     "ename": "IndexError",
     "evalue": "index 13 is out of bounds for axis 0 with size 2",
     "output_type": "error",
     "traceback": [
      "\u001b[1;31m---------------------------------------------------------------------------\u001b[0m",
      "\u001b[1;31mIndexError\u001b[0m                                Traceback (most recent call last)",
      "Cell \u001b[1;32mIn[103], line 1\u001b[0m\n\u001b[1;32m----> 1\u001b[0m \u001b[43ma\u001b[49m\u001b[43m[\u001b[49m\u001b[38;5;241;43m13\u001b[39;49m\u001b[43m]\u001b[49m\n",
      "\u001b[1;31mIndexError\u001b[0m: index 13 is out of bounds for axis 0 with size 2"
     ]
    }
   ],
   "source": [
    "a[13]"
   ]
  },
  {
   "cell_type": "code",
   "execution_count": 107,
   "id": "54813e82",
   "metadata": {},
   "outputs": [
    {
     "data": {
      "text/plain": [
       "(np.int64(77), np.int64(77))"
      ]
     },
     "execution_count": 107,
     "metadata": {},
     "output_type": "execute_result"
    }
   ],
   "source": [
    "a.flatten()[13], a.max()"
   ]
  },
  {
   "cell_type": "code",
   "execution_count": 108,
   "id": "9497d31f",
   "metadata": {},
   "outputs": [
    {
     "data": {
      "text/plain": [
       "np.int64(0)"
      ]
     },
     "execution_count": 108,
     "metadata": {},
     "output_type": "execute_result"
    }
   ],
   "source": [
    "a.argmin()"
   ]
  },
  {
   "cell_type": "code",
   "execution_count": 109,
   "id": "08270c51",
   "metadata": {},
   "outputs": [
    {
     "data": {
      "text/plain": [
       "(np.int64(1), np.int64(77))"
      ]
     },
     "execution_count": 109,
     "metadata": {},
     "output_type": "execute_result"
    }
   ],
   "source": [
    "a.flatten()[0], a.max()"
   ]
  },
  {
   "cell_type": "markdown",
   "id": "e445b2da",
   "metadata": {},
   "source": [
    "Lecture 8 ends"
   ]
  },
  {
   "cell_type": "markdown",
   "id": "0e1af3dd",
   "metadata": {},
   "source": [
    "Lecture 9 start - Numpy Array Read and Write"
   ]
  },
  {
   "cell_type": "code",
   "execution_count": 110,
   "id": "218062ea",
   "metadata": {},
   "outputs": [
    {
     "data": {
      "text/plain": [
       "array([[ 1,  2,  3,  4,  5,  6,  7],\n",
       "       [11, 22, 33, 44, 55, 66, 77]])"
      ]
     },
     "execution_count": 110,
     "metadata": {},
     "output_type": "execute_result"
    }
   ],
   "source": [
    "a"
   ]
  },
  {
   "cell_type": "code",
   "execution_count": 111,
   "id": "f7733fdc",
   "metadata": {},
   "outputs": [],
   "source": [
    "np.save('np_array', a, False)"
   ]
  },
  {
   "cell_type": "code",
   "execution_count": 119,
   "id": "6a75225c",
   "metadata": {},
   "outputs": [],
   "source": [
    "np.savetxt('np_array_txt', a, delimiter=',', header='hello')"
   ]
  },
  {
   "cell_type": "code",
   "execution_count": 121,
   "id": "5dd8ac80",
   "metadata": {},
   "outputs": [
    {
     "data": {
      "text/plain": [
       "(array([[[ 1,  2,  3,  4,  5,  6,  7],\n",
       "         [11, 22, 33, 44, 55, 66, 77]],\n",
       " \n",
       "        [[ 1,  2,  3,  4,  5,  6,  7],\n",
       "         [11, 22, 33, 44, 55, 66, 77]]]),\n",
       " 3)"
      ]
     },
     "execution_count": 121,
     "metadata": {},
     "output_type": "execute_result"
    }
   ],
   "source": [
    "b = np.array([a,a])\n",
    "b, b.ndim"
   ]
  },
  {
   "cell_type": "code",
   "execution_count": 122,
   "id": "b308591f",
   "metadata": {},
   "outputs": [
    {
     "ename": "ValueError",
     "evalue": "Expected 1D or 2D array, got 3D array instead",
     "output_type": "error",
     "traceback": [
      "\u001b[1;31m---------------------------------------------------------------------------\u001b[0m",
      "\u001b[1;31mValueError\u001b[0m                                Traceback (most recent call last)",
      "Cell \u001b[1;32mIn[122], line 1\u001b[0m\n\u001b[1;32m----> 1\u001b[0m \u001b[43mnp\u001b[49m\u001b[38;5;241;43m.\u001b[39;49m\u001b[43msavetxt\u001b[49m\u001b[43m(\u001b[49m\u001b[38;5;124;43m'\u001b[39;49m\u001b[38;5;124;43mnp_array_csv.csv\u001b[39;49m\u001b[38;5;124;43m'\u001b[39;49m\u001b[43m,\u001b[49m\u001b[43m \u001b[49m\u001b[43mb\u001b[49m\u001b[43m,\u001b[49m\u001b[43m \u001b[49m\u001b[43mdelimiter\u001b[49m\u001b[38;5;241;43m=\u001b[39;49m\u001b[38;5;124;43m'\u001b[39;49m\u001b[38;5;124;43m^\u001b[39;49m\u001b[38;5;124;43m'\u001b[39;49m\u001b[43m)\u001b[49m\n",
      "File \u001b[1;32m~\\AppData\\Local\\Packages\\PythonSoftwareFoundation.Python.3.12_qbz5n2kfra8p0\\LocalCache\\local-packages\\Python312\\site-packages\\numpy\\lib\\_npyio_impl.py:1577\u001b[0m, in \u001b[0;36msavetxt\u001b[1;34m(fname, X, fmt, delimiter, newline, header, footer, comments, encoding)\u001b[0m\n\u001b[0;32m   1575\u001b[0m \u001b[38;5;66;03m# Handle 1-dimensional arrays\u001b[39;00m\n\u001b[0;32m   1576\u001b[0m \u001b[38;5;28;01mif\u001b[39;00m X\u001b[38;5;241m.\u001b[39mndim \u001b[38;5;241m==\u001b[39m \u001b[38;5;241m0\u001b[39m \u001b[38;5;129;01mor\u001b[39;00m X\u001b[38;5;241m.\u001b[39mndim \u001b[38;5;241m>\u001b[39m \u001b[38;5;241m2\u001b[39m:\n\u001b[1;32m-> 1577\u001b[0m     \u001b[38;5;28;01mraise\u001b[39;00m \u001b[38;5;167;01mValueError\u001b[39;00m(\n\u001b[0;32m   1578\u001b[0m         \u001b[38;5;124m\"\u001b[39m\u001b[38;5;124mExpected 1D or 2D array, got \u001b[39m\u001b[38;5;132;01m%d\u001b[39;00m\u001b[38;5;124mD array instead\u001b[39m\u001b[38;5;124m\"\u001b[39m \u001b[38;5;241m%\u001b[39m X\u001b[38;5;241m.\u001b[39mndim)\n\u001b[0;32m   1579\u001b[0m \u001b[38;5;28;01melif\u001b[39;00m X\u001b[38;5;241m.\u001b[39mndim \u001b[38;5;241m==\u001b[39m \u001b[38;5;241m1\u001b[39m:\n\u001b[0;32m   1580\u001b[0m     \u001b[38;5;66;03m# Common case -- 1d array of numbers\u001b[39;00m\n\u001b[0;32m   1581\u001b[0m     \u001b[38;5;28;01mif\u001b[39;00m X\u001b[38;5;241m.\u001b[39mdtype\u001b[38;5;241m.\u001b[39mnames \u001b[38;5;129;01mis\u001b[39;00m \u001b[38;5;28;01mNone\u001b[39;00m:\n",
      "\u001b[1;31mValueError\u001b[0m: Expected 1D or 2D array, got 3D array instead"
     ]
    }
   ],
   "source": [
    "np.savetxt('np_array_csv.csv', b, delimiter='^') #we cannot save 3d array in csv file"
   ]
  },
  {
   "cell_type": "code",
   "execution_count": 126,
   "id": "0bc147e3",
   "metadata": {},
   "outputs": [],
   "source": [
    "np.save('np_array_3d', b)"
   ]
  },
  {
   "cell_type": "code",
   "execution_count": 129,
   "id": "381f4c3b",
   "metadata": {},
   "outputs": [
    {
     "data": {
      "text/plain": [
       "array([[ 1.,  2.,  3.,  4.,  5.,  6.,  7.],\n",
       "       [11., 22., 33., 44., 55., 66., 77.]])"
      ]
     },
     "execution_count": 129,
     "metadata": {},
     "output_type": "execute_result"
    }
   ],
   "source": [
    "aa = np.loadtxt('np_array_txt', delimiter=',')\n",
    "aa"
   ]
  },
  {
   "cell_type": "code",
   "execution_count": 130,
   "id": "aa79758f",
   "metadata": {},
   "outputs": [],
   "source": [
    "np.savez('savez', a, b)"
   ]
  },
  {
   "cell_type": "code",
   "execution_count": 133,
   "id": "7fbf414f",
   "metadata": {},
   "outputs": [],
   "source": [
    "d = np.load('savez.npz')"
   ]
  },
  {
   "cell_type": "code",
   "execution_count": 134,
   "id": "c779a676",
   "metadata": {},
   "outputs": [
    {
     "data": {
      "text/plain": [
       "['arr_0', 'arr_1']"
      ]
     },
     "execution_count": 134,
     "metadata": {},
     "output_type": "execute_result"
    }
   ],
   "source": [
    "d.files"
   ]
  },
  {
   "cell_type": "code",
   "execution_count": 136,
   "id": "a0d261cf",
   "metadata": {},
   "outputs": [
    {
     "data": {
      "text/plain": [
       "(array([[ 1,  2,  3,  4,  5,  6,  7],\n",
       "        [11, 22, 33, 44, 55, 66, 77]]),\n",
       " array([[[ 1,  2,  3,  4,  5,  6,  7],\n",
       "         [11, 22, 33, 44, 55, 66, 77]],\n",
       " \n",
       "        [[ 1,  2,  3,  4,  5,  6,  7],\n",
       "         [11, 22, 33, 44, 55, 66, 77]]]))"
      ]
     },
     "execution_count": 136,
     "metadata": {},
     "output_type": "execute_result"
    }
   ],
   "source": [
    "d['arr_0'], d['arr_1']"
   ]
  },
  {
   "cell_type": "markdown",
   "id": "6c8e6a5a",
   "metadata": {},
   "source": [
    "Lecture 9 ends"
   ]
  },
  {
   "cell_type": "markdown",
   "id": "798f9d16",
   "metadata": {},
   "source": [
    "Lecture 10 start - Concatenation and sorting"
   ]
  },
  {
   "cell_type": "code",
   "execution_count": 163,
   "id": "a5d5405b",
   "metadata": {},
   "outputs": [
    {
     "data": {
      "text/plain": [
       "array([ 1,  2,  3,  4,  3,  4,  5,  6, 32, 12,  4,  1])"
      ]
     },
     "execution_count": 163,
     "metadata": {},
     "output_type": "execute_result"
    }
   ],
   "source": [
    "a = np.array([1,2,3,4])\n",
    "b = np.array([3,4,5,6])\n",
    "c = np.array([32,12,4,1])\n",
    "\n",
    "np.concatenate([a,b,c])"
   ]
  },
  {
   "cell_type": "code",
   "execution_count": 140,
   "id": "ce9514ac",
   "metadata": {},
   "outputs": [
    {
     "data": {
      "text/plain": [
       "array([ 1,  2,  3,  4,  3,  4,  5,  6, 32, 12,  4,  1])"
      ]
     },
     "execution_count": 140,
     "metadata": {},
     "output_type": "execute_result"
    }
   ],
   "source": [
    "x = np.concatenate([a,b,c], axis=-1)\n",
    "x"
   ]
  },
  {
   "cell_type": "code",
   "execution_count": 152,
   "id": "baca2437",
   "metadata": {},
   "outputs": [
    {
     "data": {
      "text/plain": [
       "(array([ 1,  1,  2,  3,  3,  4,  4,  4,  5,  6, 12, 32]),\n",
       " array([32, 12,  6,  5,  4,  4,  4,  3,  3,  2,  1,  1]))"
      ]
     },
     "execution_count": 152,
     "metadata": {},
     "output_type": "execute_result"
    }
   ],
   "source": [
    "y = np.sort(x)[::-1]\n",
    "x, y"
   ]
  },
  {
   "cell_type": "code",
   "execution_count": 164,
   "id": "d7b06fb7",
   "metadata": {},
   "outputs": [
    {
     "data": {
      "text/plain": [
       "(array([[ 1,  2,  3,  4],\n",
       "        [32, 12,  4,  1]]),\n",
       " 2)"
      ]
     },
     "execution_count": 164,
     "metadata": {},
     "output_type": "execute_result"
    }
   ],
   "source": [
    "b = np.array([a,c])\n",
    "b, b.ndim"
   ]
  },
  {
   "cell_type": "code",
   "execution_count": 170,
   "id": "e452eaeb",
   "metadata": {},
   "outputs": [
    {
     "data": {
      "text/plain": [
       "(array([[ 1,  2,  3,  4],\n",
       "        [32, 12,  4,  1]]),\n",
       " 2)"
      ]
     },
     "execution_count": 170,
     "metadata": {},
     "output_type": "execute_result"
    }
   ],
   "source": [
    "a, a.ndim"
   ]
  },
  {
   "cell_type": "code",
   "execution_count": null,
   "id": "e4c7b7e7",
   "metadata": {},
   "outputs": [],
   "source": [
    "a = np.array([a,c]) #made a also in same dim to concat"
   ]
  },
  {
   "cell_type": "code",
   "execution_count": 168,
   "id": "d5d0c84b",
   "metadata": {},
   "outputs": [
    {
     "data": {
      "text/plain": [
       "array([[ 1,  2,  3,  4],\n",
       "       [32, 12,  4,  1],\n",
       "       [ 1,  2,  3,  4],\n",
       "       [32, 12,  4,  1]])"
      ]
     },
     "execution_count": 168,
     "metadata": {},
     "output_type": "execute_result"
    }
   ],
   "source": [
    "np.concatenate([a,b])"
   ]
  },
  {
   "cell_type": "code",
   "execution_count": 173,
   "id": "656c258e",
   "metadata": {},
   "outputs": [
    {
     "data": {
      "text/plain": [
       "array([[ 1,  2,  3,  4,  1,  2,  3,  4],\n",
       "       [32, 12,  4,  1, 32, 12,  4,  1]])"
      ]
     },
     "execution_count": 173,
     "metadata": {},
     "output_type": "execute_result"
    }
   ],
   "source": [
    "np.concatenate([a,b] , axis = 1)"
   ]
  },
  {
   "cell_type": "code",
   "execution_count": 175,
   "id": "188d21b6",
   "metadata": {},
   "outputs": [
    {
     "data": {
      "text/plain": [
       "2"
      ]
     },
     "execution_count": 175,
     "metadata": {},
     "output_type": "execute_result"
    }
   ],
   "source": [
    "x = np.vstack([a,b])\n",
    "x.ndim"
   ]
  },
  {
   "cell_type": "code",
   "execution_count": 177,
   "id": "fdbe568f",
   "metadata": {},
   "outputs": [
    {
     "data": {
      "text/plain": [
       "array([[ 1,  2,  3,  4,  1,  2,  3,  4],\n",
       "       [32, 12,  4,  1, 32, 12,  4,  1]])"
      ]
     },
     "execution_count": 177,
     "metadata": {},
     "output_type": "execute_result"
    }
   ],
   "source": [
    "y = np.hstack([a,b])\n",
    "y"
   ]
  },
  {
   "cell_type": "code",
   "execution_count": null,
   "id": "ddbb49c7",
   "metadata": {},
   "outputs": [
    {
     "data": {
      "text/plain": [
       "array([[1, 2, 3],\n",
       "       [4, 5, 6],\n",
       "       [7, 8, 9]])"
      ]
     },
     "execution_count": 195,
     "metadata": {},
     "output_type": "execute_result"
    }
   ],
   "source": [
    "arr = np.arange(1,10)\n",
    "arr = arr.reshape(3,3)\n",
    "arr"
   ]
  }
 ],
 "metadata": {
  "kernelspec": {
   "display_name": "Python 3",
   "language": "python",
   "name": "python3"
  },
  "language_info": {
   "codemirror_mode": {
    "name": "ipython",
    "version": 3
   },
   "file_extension": ".py",
   "mimetype": "text/x-python",
   "name": "python",
   "nbconvert_exporter": "python",
   "pygments_lexer": "ipython3",
   "version": "3.12.10"
  }
 },
 "nbformat": 4,
 "nbformat_minor": 5
}
