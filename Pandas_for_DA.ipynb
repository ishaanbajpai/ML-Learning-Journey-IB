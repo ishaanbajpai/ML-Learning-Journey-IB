{
 "cells": [
  {
   "cell_type": "markdown",
   "id": "ec051fec",
   "metadata": {},
   "source": [
    "There are 3 main types of Data Structures in Pandas \n",
    "    1: Series -> 1-D\n",
    "    2: Dataframe -> 2-D\n",
    "    3: Panel -> 3-D"
   ]
  },
  {
   "cell_type": "code",
   "execution_count": 1,
   "id": "a5c07a92",
   "metadata": {},
   "outputs": [],
   "source": [
    "import pandas as pd"
   ]
  }
 ],
 "metadata": {
  "kernelspec": {
   "display_name": "Python 3",
   "language": "python",
   "name": "python3"
  },
  "language_info": {
   "codemirror_mode": {
    "name": "ipython",
    "version": 3
   },
   "file_extension": ".py",
   "mimetype": "text/x-python",
   "name": "python",
   "nbconvert_exporter": "python",
   "pygments_lexer": "ipython3",
   "version": "3.12.10"
  }
 },
 "nbformat": 4,
 "nbformat_minor": 5
}
